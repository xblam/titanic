{
 "cells": [
  {
   "cell_type": "code",
   "execution_count": 41,
   "id": "506474e1",
   "metadata": {},
   "outputs": [
    {
     "name": "stdout",
     "output_type": "stream",
     "text": [
      "../raw_data\\gender_submission.csv\n",
      "../raw_data\\test.csv\n",
      "../raw_data\\train.csv\n"
     ]
    }
   ],
   "source": [
    "# Standard stack of imports\n",
    "import numpy as np\n",
    "import pandas as pd\n",
    "import matplotlib.pyplot as plt\n",
    "import seaborn as sns\n",
    "from sklearn.preprocessing import StandardScaler, LabelEncoder, OneHotEncoder\n",
    "from sklearn.impute import SimpleImputer # used to fill missing values, fits into pipelines\n",
    "from sklearn.model_selection import train_test_split, cross_val_score, GridSearchCV\n",
    "from sklearn.metrics import accuracy_score, confusion_matrix, classification_report, roc_auc_score\n",
    "\n",
    "# this is probably the best way to import files that I have seen\n",
    "import os\n",
    "for dirname, _, filenames in os.walk('../raw_data'):\n",
    "    for filename in filenames:\n",
    "        print(os.path.join(dirname, filename))\n"
   ]
  },
  {
   "cell_type": "markdown",
   "id": "df15168a",
   "metadata": {},
   "source": [
    "# TITANIC PROJECT\n",
    "In this project I am trying to label which passengers survived and which ones died from the data provided. I will split my programming segments into several different parts as outlined below:"
   ]
  },
  {
   "cell_type": "code",
   "execution_count": 42,
   "id": "bb3721f6",
   "metadata": {},
   "outputs": [],
   "source": [
    "# read in the data\n",
    "train = pd.read_csv('../raw_data/train.csv')\n",
    "test = pd.read_csv('../raw_data/test.csv')"
   ]
  },
  {
   "cell_type": "code",
   "execution_count": 43,
   "id": "57fe1bb3",
   "metadata": {},
   "outputs": [
    {
     "name": "stdout",
     "output_type": "stream",
     "text": [
      "<class 'pandas.core.frame.DataFrame'>\n",
      "RangeIndex: 891 entries, 0 to 890\n",
      "Data columns (total 12 columns):\n",
      " #   Column       Non-Null Count  Dtype  \n",
      "---  ------       --------------  -----  \n",
      " 0   PassengerId  891 non-null    int64  \n",
      " 1   Survived     891 non-null    int64  \n",
      " 2   Pclass       891 non-null    int64  \n",
      " 3   Name         891 non-null    object \n",
      " 4   Sex          891 non-null    object \n",
      " 5   Age          714 non-null    float64\n",
      " 6   SibSp        891 non-null    int64  \n",
      " 7   Parch        891 non-null    int64  \n",
      " 8   Ticket       891 non-null    object \n",
      " 9   Fare         891 non-null    float64\n",
      " 10  Cabin        204 non-null    object \n",
      " 11  Embarked     889 non-null    object \n",
      "dtypes: float64(2), int64(5), object(5)\n",
      "memory usage: 83.7+ KB\n"
     ]
    },
    {
     "data": {
      "text/plain": [
       "PassengerId      0\n",
       "Survived         0\n",
       "Pclass           0\n",
       "Name             0\n",
       "Sex              0\n",
       "Age            177\n",
       "SibSp            0\n",
       "Parch            0\n",
       "Ticket           0\n",
       "Fare             0\n",
       "Cabin          687\n",
       "Embarked         2\n",
       "dtype: int64"
      ]
     },
     "execution_count": 43,
     "metadata": {},
     "output_type": "execute_result"
    }
   ],
   "source": [
    "train.shape\n",
    "train.info()\n",
    "train.describe()\n",
    "\n",
    "# number of missings in each column\n",
    "train.isnull().sum()\n"
   ]
  },
  {
   "cell_type": "code",
   "execution_count": 53,
   "id": "e6440244",
   "metadata": {},
   "outputs": [
    {
     "name": "stdout",
     "output_type": "stream",
     "text": [
      "28.0\n",
      "0\n",
      "int32\n"
     ]
    }
   ],
   "source": [
    "# first lets turn the age into ints since there are no half ages\n",
    "median_age = train['Age'].dropna().median()\n",
    "print(train['Age'].dropna().median())\n",
    "train['Age'] = train['Age'].fillna(median_age).astype(int)\n",
    "\n",
    "print((train['Age'].isnull().sum())) # should be 0 now\n",
    "print(train['Age'].dtype) # should be int now"
   ]
  },
  {
   "cell_type": "code",
   "execution_count": null,
   "id": "93b2add2",
   "metadata": {},
   "outputs": [],
   "source": []
  },
  {
   "cell_type": "code",
   "execution_count": 45,
   "id": "178eb341",
   "metadata": {},
   "outputs": [
    {
     "data": {
      "text/plain": [
       "array([3, 1, 2], dtype=int64)"
      ]
     },
     "execution_count": 45,
     "metadata": {},
     "output_type": "execute_result"
    }
   ],
   "source": [
    "train[\"Pclass\"].unique() # there are 3 diffrent classes of passengers, 1st, 2nd, and 3rd class\n",
    "# survived is the target variable, 1 = survived, 0 = did not survive\n",
    "# sibsp is the number of siblings or spouses abroad the titanic\n",
    "# parch is the number of parents or children on board\n",
    "# fare is the price of the ticket\n",
    "# cabin is the cabin number\n",
    "# embarked is the port of where they baorded the ship, C = Cherbourg, Q = Queenstown, S = Southampton\n"
   ]
  },
  {
   "cell_type": "code",
   "execution_count": 46,
   "id": "c6d7df93",
   "metadata": {},
   "outputs": [],
   "source": [
    "# try to make all of this into a pipeline\n"
   ]
  }
 ],
 "metadata": {
  "kernelspec": {
   "display_name": "base",
   "language": "python",
   "name": "python3"
  },
  "language_info": {
   "codemirror_mode": {
    "name": "ipython",
    "version": 3
   },
   "file_extension": ".py",
   "mimetype": "text/x-python",
   "name": "python",
   "nbconvert_exporter": "python",
   "pygments_lexer": "ipython3",
   "version": "3.12.3"
  }
 },
 "nbformat": 4,
 "nbformat_minor": 5
}
